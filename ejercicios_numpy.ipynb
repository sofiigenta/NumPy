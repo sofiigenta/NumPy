{
 "cells": [
  {
   "cell_type": "code",
   "metadata": {
    "tags": [],
    "cell_id": "8eb22f56-4113-49cc-8c87-c48a176ce9b4",
    "deepnote_to_be_reexecuted": false,
    "source_hash": "3ebd34a1",
    "execution_start": 1646320439760,
    "execution_millis": 55,
    "deepnote_cell_type": "code"
   },
   "source": "import numpy as np\n#Crea un tensor 3D a partir de listas.\n\nlista1 = [100,200,300,400,500,600]\nlista2 = [10,20,30,40,50,60]\nlista3 = [1,2,3,4,5,6]\n\ntensor= np.array([[lista1], [lista2], [lista3]])\nprint(tensor)\n\n#Crea un array con 100 valores entre 6 y 9.\narray = (np.linspace(6,9, 100))\nprint(array)\n\n#Haz que el anterior array ahora tenga todos sus valores iguales a pi.\nprint(np.full_like(array, np.pi))\n\n#Crea un array 1D de 10000 números aleatorios.\narray1d = (np.random.randint(low= 0, high=10000, size= 10000))\nprint(array1d)\n\n\na = np.arange(1,10)\nB = np.reshape(a, [3,3])\nprint(B)\n\n#Intenta crear un array con diferentes tipos de datos (por ejemplo, enteros y flotantes). ¿Si usas .dtype(), qué tipo de dato es?\narray = np.array([1.2, 1.85, 16, 'a'])\nprint(array)\nprint(array.dtype)\n\n#Crea una matriz de 10 × 10 a partir de un vector secuencial (analiza cuál es la mejor solución, usar np.arange o np.linspace).\n\n\n\n\na = np.arange(1,10)\nB = np.reshape(a, [3,3])\nprint(B)\n\na = np.arange(2,6,1)\nb = np.reshape(a, [2,2])\ndisplay(a)\ndisplay(b)\n\nc = np.arange(1,101,1)\nd = np.reshape(c,[10,10])\ndisplay(c)\ndisplay(d)\n\ne = np.linspace(1,101,100)\nf = np.reshape(e, [10,10])\ndisplay(e)\ndisplay(f)       \n\n#como podemos observar claramente la mejor forma es hacerlo con arrange\n\n\n#Crea una matriz de 10 × 10 y accede a sus columnas 4, 5 y 6 y a sus filas 8 y 9.\nvector = np.arange(1,101,1)\nmatriz = np.reshape(vector,[10,10])\n\ndisplay(matriz)\n#Selecciona solo la fila 2\ndisplay(matriz[2, :])\n#Crea un tensor de 2 × 10 × 10 e intenta replicar el ejercicio para la segunda matriz. ¿Qué tuviste que hacer diferente?\ntensor = np.arange(200).reshape(2,10,10)\ndisplay(tensor)\nprint(tensor[1,1,:])\n#le tuve que agregar un parametro mas\n\n",
   "execution_count": null,
   "outputs": [
    {
     "name": "stdout",
     "text": "[[[100 200 300 400 500 600]]\n\n [[ 10  20  30  40  50  60]]\n\n [[  1   2   3   4   5   6]]]\n[6.         6.03030303 6.06060606 6.09090909 6.12121212 6.15151515\n 6.18181818 6.21212121 6.24242424 6.27272727 6.3030303  6.33333333\n 6.36363636 6.39393939 6.42424242 6.45454545 6.48484848 6.51515152\n 6.54545455 6.57575758 6.60606061 6.63636364 6.66666667 6.6969697\n 6.72727273 6.75757576 6.78787879 6.81818182 6.84848485 6.87878788\n 6.90909091 6.93939394 6.96969697 7.         7.03030303 7.06060606\n 7.09090909 7.12121212 7.15151515 7.18181818 7.21212121 7.24242424\n 7.27272727 7.3030303  7.33333333 7.36363636 7.39393939 7.42424242\n 7.45454545 7.48484848 7.51515152 7.54545455 7.57575758 7.60606061\n 7.63636364 7.66666667 7.6969697  7.72727273 7.75757576 7.78787879\n 7.81818182 7.84848485 7.87878788 7.90909091 7.93939394 7.96969697\n 8.         8.03030303 8.06060606 8.09090909 8.12121212 8.15151515\n 8.18181818 8.21212121 8.24242424 8.27272727 8.3030303  8.33333333\n 8.36363636 8.39393939 8.42424242 8.45454545 8.48484848 8.51515152\n 8.54545455 8.57575758 8.60606061 8.63636364 8.66666667 8.6969697\n 8.72727273 8.75757576 8.78787879 8.81818182 8.84848485 8.87878788\n 8.90909091 8.93939394 8.96969697 9.        ]\n[3.14159265 3.14159265 3.14159265 3.14159265 3.14159265 3.14159265\n 3.14159265 3.14159265 3.14159265 3.14159265 3.14159265 3.14159265\n 3.14159265 3.14159265 3.14159265 3.14159265 3.14159265 3.14159265\n 3.14159265 3.14159265 3.14159265 3.14159265 3.14159265 3.14159265\n 3.14159265 3.14159265 3.14159265 3.14159265 3.14159265 3.14159265\n 3.14159265 3.14159265 3.14159265 3.14159265 3.14159265 3.14159265\n 3.14159265 3.14159265 3.14159265 3.14159265 3.14159265 3.14159265\n 3.14159265 3.14159265 3.14159265 3.14159265 3.14159265 3.14159265\n 3.14159265 3.14159265 3.14159265 3.14159265 3.14159265 3.14159265\n 3.14159265 3.14159265 3.14159265 3.14159265 3.14159265 3.14159265\n 3.14159265 3.14159265 3.14159265 3.14159265 3.14159265 3.14159265\n 3.14159265 3.14159265 3.14159265 3.14159265 3.14159265 3.14159265\n 3.14159265 3.14159265 3.14159265 3.14159265 3.14159265 3.14159265\n 3.14159265 3.14159265 3.14159265 3.14159265 3.14159265 3.14159265\n 3.14159265 3.14159265 3.14159265 3.14159265 3.14159265 3.14159265\n 3.14159265 3.14159265 3.14159265 3.14159265 3.14159265 3.14159265\n 3.14159265 3.14159265 3.14159265 3.14159265]\n[8201 2786 9448 ... 2919 2633  801]\n[[1 2 3]\n [4 5 6]\n [7 8 9]]\n['1.2' '1.85' '16' 'a']\n<U32\n[[1 2 3]\n [4 5 6]\n [7 8 9]]\n",
     "output_type": "stream"
    },
    {
     "data": {
      "text/plain": "array([2, 3, 4, 5])"
     },
     "metadata": {},
     "output_type": "display_data"
    },
    {
     "data": {
      "text/plain": "array([[2, 3],\n       [4, 5]])"
     },
     "metadata": {},
     "output_type": "display_data"
    },
    {
     "data": {
      "text/plain": "array([  1,   2,   3,   4,   5,   6,   7,   8,   9,  10,  11,  12,  13,\n        14,  15,  16,  17,  18,  19,  20,  21,  22,  23,  24,  25,  26,\n        27,  28,  29,  30,  31,  32,  33,  34,  35,  36,  37,  38,  39,\n        40,  41,  42,  43,  44,  45,  46,  47,  48,  49,  50,  51,  52,\n        53,  54,  55,  56,  57,  58,  59,  60,  61,  62,  63,  64,  65,\n        66,  67,  68,  69,  70,  71,  72,  73,  74,  75,  76,  77,  78,\n        79,  80,  81,  82,  83,  84,  85,  86,  87,  88,  89,  90,  91,\n        92,  93,  94,  95,  96,  97,  98,  99, 100])"
     },
     "metadata": {},
     "output_type": "display_data"
    },
    {
     "data": {
      "text/plain": "array([[  1,   2,   3,   4,   5,   6,   7,   8,   9,  10],\n       [ 11,  12,  13,  14,  15,  16,  17,  18,  19,  20],\n       [ 21,  22,  23,  24,  25,  26,  27,  28,  29,  30],\n       [ 31,  32,  33,  34,  35,  36,  37,  38,  39,  40],\n       [ 41,  42,  43,  44,  45,  46,  47,  48,  49,  50],\n       [ 51,  52,  53,  54,  55,  56,  57,  58,  59,  60],\n       [ 61,  62,  63,  64,  65,  66,  67,  68,  69,  70],\n       [ 71,  72,  73,  74,  75,  76,  77,  78,  79,  80],\n       [ 81,  82,  83,  84,  85,  86,  87,  88,  89,  90],\n       [ 91,  92,  93,  94,  95,  96,  97,  98,  99, 100]])"
     },
     "metadata": {},
     "output_type": "display_data"
    },
    {
     "data": {
      "text/plain": "array([  1.        ,   2.01010101,   3.02020202,   4.03030303,\n         5.04040404,   6.05050505,   7.06060606,   8.07070707,\n         9.08080808,  10.09090909,  11.1010101 ,  12.11111111,\n        13.12121212,  14.13131313,  15.14141414,  16.15151515,\n        17.16161616,  18.17171717,  19.18181818,  20.19191919,\n        21.2020202 ,  22.21212121,  23.22222222,  24.23232323,\n        25.24242424,  26.25252525,  27.26262626,  28.27272727,\n        29.28282828,  30.29292929,  31.3030303 ,  32.31313131,\n        33.32323232,  34.33333333,  35.34343434,  36.35353535,\n        37.36363636,  38.37373737,  39.38383838,  40.39393939,\n        41.4040404 ,  42.41414141,  43.42424242,  44.43434343,\n        45.44444444,  46.45454545,  47.46464646,  48.47474747,\n        49.48484848,  50.49494949,  51.50505051,  52.51515152,\n        53.52525253,  54.53535354,  55.54545455,  56.55555556,\n        57.56565657,  58.57575758,  59.58585859,  60.5959596 ,\n        61.60606061,  62.61616162,  63.62626263,  64.63636364,\n        65.64646465,  66.65656566,  67.66666667,  68.67676768,\n        69.68686869,  70.6969697 ,  71.70707071,  72.71717172,\n        73.72727273,  74.73737374,  75.74747475,  76.75757576,\n        77.76767677,  78.77777778,  79.78787879,  80.7979798 ,\n        81.80808081,  82.81818182,  83.82828283,  84.83838384,\n        85.84848485,  86.85858586,  87.86868687,  88.87878788,\n        89.88888889,  90.8989899 ,  91.90909091,  92.91919192,\n        93.92929293,  94.93939394,  95.94949495,  96.95959596,\n        97.96969697,  98.97979798,  99.98989899, 101.        ])"
     },
     "metadata": {},
     "output_type": "display_data"
    },
    {
     "data": {
      "text/plain": "array([[  1.        ,   2.01010101,   3.02020202,   4.03030303,\n          5.04040404,   6.05050505,   7.06060606,   8.07070707,\n          9.08080808,  10.09090909],\n       [ 11.1010101 ,  12.11111111,  13.12121212,  14.13131313,\n         15.14141414,  16.15151515,  17.16161616,  18.17171717,\n         19.18181818,  20.19191919],\n       [ 21.2020202 ,  22.21212121,  23.22222222,  24.23232323,\n         25.24242424,  26.25252525,  27.26262626,  28.27272727,\n         29.28282828,  30.29292929],\n       [ 31.3030303 ,  32.31313131,  33.32323232,  34.33333333,\n         35.34343434,  36.35353535,  37.36363636,  38.37373737,\n         39.38383838,  40.39393939],\n       [ 41.4040404 ,  42.41414141,  43.42424242,  44.43434343,\n         45.44444444,  46.45454545,  47.46464646,  48.47474747,\n         49.48484848,  50.49494949],\n       [ 51.50505051,  52.51515152,  53.52525253,  54.53535354,\n         55.54545455,  56.55555556,  57.56565657,  58.57575758,\n         59.58585859,  60.5959596 ],\n       [ 61.60606061,  62.61616162,  63.62626263,  64.63636364,\n         65.64646465,  66.65656566,  67.66666667,  68.67676768,\n         69.68686869,  70.6969697 ],\n       [ 71.70707071,  72.71717172,  73.72727273,  74.73737374,\n         75.74747475,  76.75757576,  77.76767677,  78.77777778,\n         79.78787879,  80.7979798 ],\n       [ 81.80808081,  82.81818182,  83.82828283,  84.83838384,\n         85.84848485,  86.85858586,  87.86868687,  88.87878788,\n         89.88888889,  90.8989899 ],\n       [ 91.90909091,  92.91919192,  93.92929293,  94.93939394,\n         95.94949495,  96.95959596,  97.96969697,  98.97979798,\n         99.98989899, 101.        ]])"
     },
     "metadata": {},
     "output_type": "display_data"
    },
    {
     "data": {
      "text/plain": "array([[  1,   2,   3,   4,   5,   6,   7,   8,   9,  10],\n       [ 11,  12,  13,  14,  15,  16,  17,  18,  19,  20],\n       [ 21,  22,  23,  24,  25,  26,  27,  28,  29,  30],\n       [ 31,  32,  33,  34,  35,  36,  37,  38,  39,  40],\n       [ 41,  42,  43,  44,  45,  46,  47,  48,  49,  50],\n       [ 51,  52,  53,  54,  55,  56,  57,  58,  59,  60],\n       [ 61,  62,  63,  64,  65,  66,  67,  68,  69,  70],\n       [ 71,  72,  73,  74,  75,  76,  77,  78,  79,  80],\n       [ 81,  82,  83,  84,  85,  86,  87,  88,  89,  90],\n       [ 91,  92,  93,  94,  95,  96,  97,  98,  99, 100]])"
     },
     "metadata": {},
     "output_type": "display_data"
    },
    {
     "data": {
      "text/plain": "array([21, 22, 23, 24, 25, 26, 27, 28, 29, 30])"
     },
     "metadata": {},
     "output_type": "display_data"
    },
    {
     "data": {
      "text/plain": "array([[[  0,   1,   2,   3,   4,   5,   6,   7,   8,   9],\n        [ 10,  11,  12,  13,  14,  15,  16,  17,  18,  19],\n        [ 20,  21,  22,  23,  24,  25,  26,  27,  28,  29],\n        [ 30,  31,  32,  33,  34,  35,  36,  37,  38,  39],\n        [ 40,  41,  42,  43,  44,  45,  46,  47,  48,  49],\n        [ 50,  51,  52,  53,  54,  55,  56,  57,  58,  59],\n        [ 60,  61,  62,  63,  64,  65,  66,  67,  68,  69],\n        [ 70,  71,  72,  73,  74,  75,  76,  77,  78,  79],\n        [ 80,  81,  82,  83,  84,  85,  86,  87,  88,  89],\n        [ 90,  91,  92,  93,  94,  95,  96,  97,  98,  99]],\n\n       [[100, 101, 102, 103, 104, 105, 106, 107, 108, 109],\n        [110, 111, 112, 113, 114, 115, 116, 117, 118, 119],\n        [120, 121, 122, 123, 124, 125, 126, 127, 128, 129],\n        [130, 131, 132, 133, 134, 135, 136, 137, 138, 139],\n        [140, 141, 142, 143, 144, 145, 146, 147, 148, 149],\n        [150, 151, 152, 153, 154, 155, 156, 157, 158, 159],\n        [160, 161, 162, 163, 164, 165, 166, 167, 168, 169],\n        [170, 171, 172, 173, 174, 175, 176, 177, 178, 179],\n        [180, 181, 182, 183, 184, 185, 186, 187, 188, 189],\n        [190, 191, 192, 193, 194, 195, 196, 197, 198, 199]]])"
     },
     "metadata": {},
     "output_type": "display_data"
    },
    {
     "name": "stdout",
     "text": "[110 111 112 113 114 115 116 117 118 119]\n",
     "output_type": "stream"
    }
   ]
  },
  {
   "cell_type": "markdown",
   "source": "<a style='text-decoration:none;line-height:16px;display:flex;color:#5B5B62;padding:10px;justify-content:end;' href='https://deepnote.com?utm_source=created-in-deepnote-cell&projectId=3a030b5a-14f1-42be-a02d-9145dd4f2e0f' target=\"_blank\">\n<img alt='Created in deepnote.com' style='display:inline;max-height:16px;margin:0px;margin-right:7.5px;' src='data:image/svg+xml;base64,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' > </img>\nCreated in <span style='font-weight:600;margin-left:4px;'>Deepnote</span></a>",
   "metadata": {
    "tags": [],
    "created_in_deepnote_cell": true,
    "deepnote_cell_type": "markdown"
   }
  }
 ],
 "nbformat": 4,
 "nbformat_minor": 2,
 "metadata": {
  "orig_nbformat": 2,
  "deepnote": {
   "is_reactive": false
  },
  "deepnote_notebook_id": "16055019-f599-44cf-88fd-b243a7b69f23",
  "deepnote_execution_queue": []
 }
}